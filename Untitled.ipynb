{
 "cells": [
  {
   "cell_type": "code",
   "execution_count": null,
   "id": "0b4dfe06-295b-47a2-897f-a1a9ba4cb45f",
   "metadata": {},
   "outputs": [],
   "source": [
    "print(\"Aleem\")"
   ]
  },
  {
   "cell_type": "code",
   "execution_count": null,
   "id": "a5107bcf-a6c7-41bf-85aa-9e6c5447b94d",
   "metadata": {},
   "outputs": [],
   "source": []
  },
  {
   "cell_type": "code",
   "execution_count": null,
   "id": "2d7a5056-c2e0-4ba3-8ec8-7bd7201b3e58",
   "metadata": {},
   "outputs": [],
   "source": []
  }
 ],
 "metadata": {
  "kernelspec": {
   "display_name": "Python 3 (ipykernel)",
   "language": "python",
   "name": "python3"
  },
  "language_info": {
   "name": ""
  }
 },
 "nbformat": 4,
 "nbformat_minor": 5
}
